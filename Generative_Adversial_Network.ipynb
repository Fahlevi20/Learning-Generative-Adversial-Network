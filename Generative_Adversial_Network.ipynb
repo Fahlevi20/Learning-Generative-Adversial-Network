{
  "nbformat": 4,
  "nbformat_minor": 0,
  "metadata": {
    "colab": {
      "provenance": [],
      "gpuType": "T4"
    },
    "kernelspec": {
      "name": "python3",
      "display_name": "Python 3"
    },
    "language_info": {
      "name": "python"
    },
    "accelerator": "GPU"
  },
  "cells": [
    {
      "cell_type": "code",
      "execution_count": 1,
      "metadata": {
        "id": "bGc8AKn4YyrP"
      },
      "outputs": [],
      "source": [
        "import tensorflow as tf"
      ]
    },
    {
      "cell_type": "code",
      "source": [
        "tf.__version__"
      ],
      "metadata": {
        "colab": {
          "base_uri": "https://localhost:8080/",
          "height": 36
        },
        "id": "AudN7ss0e1PP",
        "outputId": "9c8824bb-f571-4ee3-9371-f5b2717e5c01"
      },
      "execution_count": 2,
      "outputs": [
        {
          "output_type": "execute_result",
          "data": {
            "text/plain": [
              "'2.15.0'"
            ],
            "application/vnd.google.colaboratory.intrinsic+json": {
              "type": "string"
            }
          },
          "metadata": {},
          "execution_count": 2
        }
      ]
    },
    {
      "cell_type": "code",
      "source": [
        "import glob\n",
        "import imageio\n",
        "import matplotlib.pyplot as plt\n",
        "import numpy as np\n",
        "import os\n",
        "import PIL\n",
        "from tensorflow.keras import layers\n",
        "import time\n",
        "\n",
        "from IPython import display"
      ],
      "metadata": {
        "id": "U0AseljWe2lH"
      },
      "execution_count": 3,
      "outputs": []
    },
    {
      "cell_type": "code",
      "source": [
        "(train_images, train_labels), (_, _) = tf.keras.datasets.mnist.load_data()"
      ],
      "metadata": {
        "colab": {
          "base_uri": "https://localhost:8080/"
        },
        "id": "orc1a9QBe4iv",
        "outputId": "4d89ee62-891c-4e1a-d1cb-c6f6736f8abc"
      },
      "execution_count": 4,
      "outputs": [
        {
          "output_type": "stream",
          "name": "stdout",
          "text": [
            "Downloading data from https://storage.googleapis.com/tensorflow/tf-keras-datasets/mnist.npz\n",
            "11490434/11490434 [==============================] - 1s 0us/step\n"
          ]
        }
      ]
    },
    {
      "cell_type": "code",
      "source": [
        "train_images.shape"
      ],
      "metadata": {
        "colab": {
          "base_uri": "https://localhost:8080/"
        },
        "id": "agESU3kSgVOT",
        "outputId": "8ca019f6-0ca0-4056-f219-b5c8cbb420db"
      },
      "execution_count": 5,
      "outputs": [
        {
          "output_type": "execute_result",
          "data": {
            "text/plain": [
              "(60000, 28, 28)"
            ]
          },
          "metadata": {},
          "execution_count": 5
        }
      ]
    },
    {
      "cell_type": "code",
      "source": [
        "train_images = train_images.reshape(train_images.shape[0], 28,28,1).astype('float32')"
      ],
      "metadata": {
        "id": "t-rxdj6Jfot8"
      },
      "execution_count": 6,
      "outputs": []
    },
    {
      "cell_type": "code",
      "source": [
        "train_images.shape"
      ],
      "metadata": {
        "colab": {
          "base_uri": "https://localhost:8080/"
        },
        "id": "GlVc1DW6gcVQ",
        "outputId": "ac91e083-ba38-43c0-9400-4f90bfc917c0"
      },
      "execution_count": 7,
      "outputs": [
        {
          "output_type": "execute_result",
          "data": {
            "text/plain": [
              "(60000, 28, 28, 1)"
            ]
          },
          "metadata": {},
          "execution_count": 7
        }
      ]
    },
    {
      "cell_type": "code",
      "source": [
        "train_images = (train_images-127.5)/127.5 #normalize the images to [-1,1]\n",
        "print(train_images)"
      ],
      "metadata": {
        "colab": {
          "base_uri": "https://localhost:8080/"
        },
        "id": "H-mP0s3EgdHW",
        "outputId": "7356cf23-d583-4189-b650-b09756ca1080"
      },
      "execution_count": 8,
      "outputs": [
        {
          "output_type": "stream",
          "name": "stdout",
          "text": [
            "[[[[-1.]\n",
            "   [-1.]\n",
            "   [-1.]\n",
            "   ...\n",
            "   [-1.]\n",
            "   [-1.]\n",
            "   [-1.]]\n",
            "\n",
            "  [[-1.]\n",
            "   [-1.]\n",
            "   [-1.]\n",
            "   ...\n",
            "   [-1.]\n",
            "   [-1.]\n",
            "   [-1.]]\n",
            "\n",
            "  [[-1.]\n",
            "   [-1.]\n",
            "   [-1.]\n",
            "   ...\n",
            "   [-1.]\n",
            "   [-1.]\n",
            "   [-1.]]\n",
            "\n",
            "  ...\n",
            "\n",
            "  [[-1.]\n",
            "   [-1.]\n",
            "   [-1.]\n",
            "   ...\n",
            "   [-1.]\n",
            "   [-1.]\n",
            "   [-1.]]\n",
            "\n",
            "  [[-1.]\n",
            "   [-1.]\n",
            "   [-1.]\n",
            "   ...\n",
            "   [-1.]\n",
            "   [-1.]\n",
            "   [-1.]]\n",
            "\n",
            "  [[-1.]\n",
            "   [-1.]\n",
            "   [-1.]\n",
            "   ...\n",
            "   [-1.]\n",
            "   [-1.]\n",
            "   [-1.]]]\n",
            "\n",
            "\n",
            " [[[-1.]\n",
            "   [-1.]\n",
            "   [-1.]\n",
            "   ...\n",
            "   [-1.]\n",
            "   [-1.]\n",
            "   [-1.]]\n",
            "\n",
            "  [[-1.]\n",
            "   [-1.]\n",
            "   [-1.]\n",
            "   ...\n",
            "   [-1.]\n",
            "   [-1.]\n",
            "   [-1.]]\n",
            "\n",
            "  [[-1.]\n",
            "   [-1.]\n",
            "   [-1.]\n",
            "   ...\n",
            "   [-1.]\n",
            "   [-1.]\n",
            "   [-1.]]\n",
            "\n",
            "  ...\n",
            "\n",
            "  [[-1.]\n",
            "   [-1.]\n",
            "   [-1.]\n",
            "   ...\n",
            "   [-1.]\n",
            "   [-1.]\n",
            "   [-1.]]\n",
            "\n",
            "  [[-1.]\n",
            "   [-1.]\n",
            "   [-1.]\n",
            "   ...\n",
            "   [-1.]\n",
            "   [-1.]\n",
            "   [-1.]]\n",
            "\n",
            "  [[-1.]\n",
            "   [-1.]\n",
            "   [-1.]\n",
            "   ...\n",
            "   [-1.]\n",
            "   [-1.]\n",
            "   [-1.]]]\n",
            "\n",
            "\n",
            " [[[-1.]\n",
            "   [-1.]\n",
            "   [-1.]\n",
            "   ...\n",
            "   [-1.]\n",
            "   [-1.]\n",
            "   [-1.]]\n",
            "\n",
            "  [[-1.]\n",
            "   [-1.]\n",
            "   [-1.]\n",
            "   ...\n",
            "   [-1.]\n",
            "   [-1.]\n",
            "   [-1.]]\n",
            "\n",
            "  [[-1.]\n",
            "   [-1.]\n",
            "   [-1.]\n",
            "   ...\n",
            "   [-1.]\n",
            "   [-1.]\n",
            "   [-1.]]\n",
            "\n",
            "  ...\n",
            "\n",
            "  [[-1.]\n",
            "   [-1.]\n",
            "   [-1.]\n",
            "   ...\n",
            "   [-1.]\n",
            "   [-1.]\n",
            "   [-1.]]\n",
            "\n",
            "  [[-1.]\n",
            "   [-1.]\n",
            "   [-1.]\n",
            "   ...\n",
            "   [-1.]\n",
            "   [-1.]\n",
            "   [-1.]]\n",
            "\n",
            "  [[-1.]\n",
            "   [-1.]\n",
            "   [-1.]\n",
            "   ...\n",
            "   [-1.]\n",
            "   [-1.]\n",
            "   [-1.]]]\n",
            "\n",
            "\n",
            " ...\n",
            "\n",
            "\n",
            " [[[-1.]\n",
            "   [-1.]\n",
            "   [-1.]\n",
            "   ...\n",
            "   [-1.]\n",
            "   [-1.]\n",
            "   [-1.]]\n",
            "\n",
            "  [[-1.]\n",
            "   [-1.]\n",
            "   [-1.]\n",
            "   ...\n",
            "   [-1.]\n",
            "   [-1.]\n",
            "   [-1.]]\n",
            "\n",
            "  [[-1.]\n",
            "   [-1.]\n",
            "   [-1.]\n",
            "   ...\n",
            "   [-1.]\n",
            "   [-1.]\n",
            "   [-1.]]\n",
            "\n",
            "  ...\n",
            "\n",
            "  [[-1.]\n",
            "   [-1.]\n",
            "   [-1.]\n",
            "   ...\n",
            "   [-1.]\n",
            "   [-1.]\n",
            "   [-1.]]\n",
            "\n",
            "  [[-1.]\n",
            "   [-1.]\n",
            "   [-1.]\n",
            "   ...\n",
            "   [-1.]\n",
            "   [-1.]\n",
            "   [-1.]]\n",
            "\n",
            "  [[-1.]\n",
            "   [-1.]\n",
            "   [-1.]\n",
            "   ...\n",
            "   [-1.]\n",
            "   [-1.]\n",
            "   [-1.]]]\n",
            "\n",
            "\n",
            " [[[-1.]\n",
            "   [-1.]\n",
            "   [-1.]\n",
            "   ...\n",
            "   [-1.]\n",
            "   [-1.]\n",
            "   [-1.]]\n",
            "\n",
            "  [[-1.]\n",
            "   [-1.]\n",
            "   [-1.]\n",
            "   ...\n",
            "   [-1.]\n",
            "   [-1.]\n",
            "   [-1.]]\n",
            "\n",
            "  [[-1.]\n",
            "   [-1.]\n",
            "   [-1.]\n",
            "   ...\n",
            "   [-1.]\n",
            "   [-1.]\n",
            "   [-1.]]\n",
            "\n",
            "  ...\n",
            "\n",
            "  [[-1.]\n",
            "   [-1.]\n",
            "   [-1.]\n",
            "   ...\n",
            "   [-1.]\n",
            "   [-1.]\n",
            "   [-1.]]\n",
            "\n",
            "  [[-1.]\n",
            "   [-1.]\n",
            "   [-1.]\n",
            "   ...\n",
            "   [-1.]\n",
            "   [-1.]\n",
            "   [-1.]]\n",
            "\n",
            "  [[-1.]\n",
            "   [-1.]\n",
            "   [-1.]\n",
            "   ...\n",
            "   [-1.]\n",
            "   [-1.]\n",
            "   [-1.]]]\n",
            "\n",
            "\n",
            " [[[-1.]\n",
            "   [-1.]\n",
            "   [-1.]\n",
            "   ...\n",
            "   [-1.]\n",
            "   [-1.]\n",
            "   [-1.]]\n",
            "\n",
            "  [[-1.]\n",
            "   [-1.]\n",
            "   [-1.]\n",
            "   ...\n",
            "   [-1.]\n",
            "   [-1.]\n",
            "   [-1.]]\n",
            "\n",
            "  [[-1.]\n",
            "   [-1.]\n",
            "   [-1.]\n",
            "   ...\n",
            "   [-1.]\n",
            "   [-1.]\n",
            "   [-1.]]\n",
            "\n",
            "  ...\n",
            "\n",
            "  [[-1.]\n",
            "   [-1.]\n",
            "   [-1.]\n",
            "   ...\n",
            "   [-1.]\n",
            "   [-1.]\n",
            "   [-1.]]\n",
            "\n",
            "  [[-1.]\n",
            "   [-1.]\n",
            "   [-1.]\n",
            "   ...\n",
            "   [-1.]\n",
            "   [-1.]\n",
            "   [-1.]]\n",
            "\n",
            "  [[-1.]\n",
            "   [-1.]\n",
            "   [-1.]\n",
            "   ...\n",
            "   [-1.]\n",
            "   [-1.]\n",
            "   [-1.]]]]\n"
          ]
        }
      ]
    },
    {
      "cell_type": "code",
      "source": [
        "buffer_size = 60000 #buffer size for shuffling images\n",
        "batch_size = 256 #many sample will be propagated"
      ],
      "metadata": {
        "id": "eKGIeqc3hYyM"
      },
      "execution_count": 9,
      "outputs": []
    },
    {
      "cell_type": "code",
      "source": [
        "train_dataset = tf.data.Dataset.from_tensor_slices(train_images).shuffle(buffer_size).batch(batch_size)"
      ],
      "metadata": {
        "id": "G4cbfAMMiRTH"
      },
      "execution_count": 10,
      "outputs": []
    },
    {
      "cell_type": "code",
      "source": [
        "train_dataset"
      ],
      "metadata": {
        "colab": {
          "base_uri": "https://localhost:8080/"
        },
        "id": "aSjoeoWnifwC",
        "outputId": "6bbd794f-1cbb-43ce-ca47-d107936d5ae4"
      },
      "execution_count": 11,
      "outputs": [
        {
          "output_type": "execute_result",
          "data": {
            "text/plain": [
              "<_BatchDataset element_spec=TensorSpec(shape=(None, 28, 28, 1), dtype=tf.float32, name=None)>"
            ]
          },
          "metadata": {},
          "execution_count": 11
        }
      ]
    },
    {
      "cell_type": "code",
      "source": [
        "def make_generator_model():\n",
        "    model = tf.keras.Sequential()\n",
        "    model.add(layers.Dense(7*7*256, use_bias=False, input_shape=(100,)))\n",
        "    model.add(layers.BatchNormalization())\n",
        "    model.add(layers.LeakyReLU())\n",
        "\n",
        "    model.add(layers.Reshape((7, 7, 256)))\n",
        "    assert model.output_shape == (None, 7, 7, 256)  # Note: None is the batch size\n",
        "\n",
        "    model.add(layers.Conv2DTranspose(128, (5, 5), strides=(1, 1), padding='same', use_bias=False))\n",
        "    assert model.output_shape == (None, 7, 7, 128)\n",
        "    model.add(layers.BatchNormalization())\n",
        "    model.add(layers.LeakyReLU())\n",
        "\n",
        "    model.add(layers.Conv2DTranspose(64, (5, 5), strides=(2, 2), padding='same', use_bias=False))\n",
        "    assert model.output_shape == (None, 14, 14, 64)\n",
        "    model.add(layers.BatchNormalization())\n",
        "    model.add(layers.LeakyReLU())\n",
        "\n",
        "    model.add(layers.Conv2DTranspose(1, (5, 5), strides=(2, 2), padding='same', use_bias=False, activation='tanh'))\n",
        "    assert model.output_shape == (None, 28, 28, 1)\n",
        "\n",
        "    return model"
      ],
      "metadata": {
        "id": "VANy1SqVijJy"
      },
      "execution_count": 12,
      "outputs": []
    },
    {
      "cell_type": "code",
      "source": [
        "generator = make_generator_model()\n",
        "\n",
        "noise = tf.random.normal([1,100])\n",
        "generated_image = generator(noise, training=False)\n",
        "\n",
        "plt.imshow(generated_image[0,:,:,0], cmap='gray')"
      ],
      "metadata": {
        "colab": {
          "base_uri": "https://localhost:8080/",
          "height": 447
        },
        "id": "iucwSEi8legT",
        "outputId": "1f18d625-67d7-4259-ca55-981ec04fccc8"
      },
      "execution_count": 13,
      "outputs": [
        {
          "output_type": "execute_result",
          "data": {
            "text/plain": [
              "<matplotlib.image.AxesImage at 0x7f80576e68f0>"
            ]
          },
          "metadata": {},
          "execution_count": 13
        },
        {
          "output_type": "display_data",
          "data": {
            "text/plain": [
              "<Figure size 640x480 with 1 Axes>"
            ],
            "image/png": "[encoded data removed]"
          },
          "metadata": {}
        }
      ]
    },
    {
      "cell_type": "code",
      "source": [
        "def make_discriminator_model():\n",
        "  model = tf.keras.Sequential()\n",
        "  model.add(layers.Conv2D(64, (5,5), strides = (2,2), padding='same', input_shape=[28,28,1]))\n",
        "  model.add(layers.LeakyReLU())\n",
        "  model.add(layers.Dropout(0.3))\n",
        "\n",
        "  model.add(layers.Conv2D(128, (5,5), strides=(2,2), padding ='same'))\n",
        "  model.add(layers.LeakyReLU())\n",
        "  model.add(layers.Dropout(0.3))\n",
        "\n",
        "  model.add(layers.Flatten())\n",
        "  model.add(layers.Dense(1))\n",
        "\n",
        "  return model"
      ],
      "metadata": {
        "id": "yzuPrB1Flsz-"
      },
      "execution_count": 14,
      "outputs": []
    },
    {
      "cell_type": "code",
      "source": [
        "discriminator = make_discriminator_model()\n",
        "decision = discriminator(generated_image)\n",
        "print(decision)"
      ],
      "metadata": {
        "colab": {
          "base_uri": "https://localhost:8080/"
        },
        "id": "AF7KWg5cnHn6",
        "outputId": "1d3992cf-f722-4cfb-8f29-a2698dd71b53"
      },
      "execution_count": 15,
      "outputs": [
        {
          "output_type": "stream",
          "name": "stdout",
          "text": [
            "tf.Tensor([[0.00097993]], shape=(1, 1), dtype=float32)\n"
          ]
        }
      ]
    },
    {
      "cell_type": "code",
      "source": [
        "cross_entropy = tf.keras.losses.BinaryCrossentropy(from_logits=True)"
      ],
      "metadata": {
        "id": "fRBosuYpn6lH"
      },
      "execution_count": 16,
      "outputs": []
    },
    {
      "cell_type": "code",
      "source": [
        "def discriminator_loss(real_output, fake_output):\n",
        "  real_loss = cross_entropy(tf.ones_like(real_output),real_output)\n",
        "  fake_loss = cross_entropy(tf.ones_like(fake_output),fake_output)\n",
        "  total_loss = real_loss+fake_loss\n",
        "  return total_loss"
      ],
      "metadata": {
        "id": "It3op3m6oZql"
      },
      "execution_count": 17,
      "outputs": []
    },
    {
      "cell_type": "code",
      "source": [
        "def generator_loss(fake_output):\n",
        "  return cross_entropy(tf.ones_like(fake_output),fake_output)"
      ],
      "metadata": {
        "id": "W-DCta3So3Ms"
      },
      "execution_count": 18,
      "outputs": []
    },
    {
      "cell_type": "code",
      "source": [
        "generator_optimizer = tf.keras.optimizers.Adam(1e-4)\n",
        "discriminator_optimizer = tf.keras.optimizers.Adam(1e-4)"
      ],
      "metadata": {
        "id": "sHkcQEXIpFl4"
      },
      "execution_count": 19,
      "outputs": []
    },
    {
      "cell_type": "code",
      "source": [
        "checkpoint_dir = './training_checkpoints'\n",
        "checkpoint_prefix = os.path.join(checkpoint_dir, 'ckpt')\n",
        "checkpoint=tf.train.Checkpoint(generator_optimizer=generator_optimizer,\n",
        "                               discriminator_optimizer=discriminator_optimizer,\n",
        "                               generator=generator,\n",
        "                               discriminator=discriminator)"
      ],
      "metadata": {
        "id": "TYHtb1ZipRmD"
      },
      "execution_count": 20,
      "outputs": []
    },
    {
      "cell_type": "code",
      "source": [
        "epochs = 50\n",
        "noise_dim = 100\n",
        "num_examples_to_generate = 16\n",
        "\n",
        "seed = tf.random.normal([num_examples_to_generate, noise_dim])"
      ],
      "metadata": {
        "id": "SsVey_7Ypseq"
      },
      "execution_count": 21,
      "outputs": []
    },
    {
      "cell_type": "code",
      "source": [
        "def train_step(images):\n",
        "  noise = tf.random.normal([batch_size, noise_dim])\n",
        "\n",
        "  with tf.GradientTape() as gen_tape, tf.GradientTape() as disc_tape:\n",
        "    generated_images = generator(noise, training=True)\n",
        "\n",
        "    real_output=discriminator(images, training=True)\n",
        "    fake_output=discriminator(generated_images, training=True)\n",
        "\n",
        "    gen_loss = generator_loss(fake_output)\n",
        "    disc_loss = discriminator_loss(real_output, fake_output)\n",
        "\n",
        "  gradients_of_generator = gen_tape.gradient(gen_loss, generator.trainable_variables)\n",
        "  gradients_of_discriminator = disc_tape.gradient(disc_loss, discriminator.trainable_variables)\n",
        "\n",
        "  generator_optimizer.apply_gradients(zip(gradients_of_generator,generator.trainable_variables))\n",
        "\n",
        "  discriminator_optimizer.apply_gradients(zip(gradients_of_generator,generator.trainable_variables))\n",
        "\n"
      ],
      "metadata": {
        "id": "L7EDom9zp3KA"
      },
      "execution_count": 22,
      "outputs": []
    },
    {
      "cell_type": "code",
      "source": [
        "def train(dataset,epochs):\n",
        "  for epoch in range(epochs):\n",
        "    start = time.time()\n",
        "\n",
        "    for image_batch in dataset:\n",
        "      train_step(image_batch)\n",
        "\n",
        "      display.clear_output(wait=True)\n",
        "      generate_and_save_images(generator, epoch+1,\n",
        "                               seed)\n",
        "\n",
        "      if (epoch+1) % 15 == 0:\n",
        "        checkpoint.save(file_prefix = checkpoint_prefix)\n",
        "      print(\"Time for epoch {} is {} sec\".format(epoch + 1, time.time()-start))\n",
        "\n",
        "      display.clear_output(wait=True)\n",
        "      generate_and_save_images(generator,\n",
        "                               epochs,\n",
        "                               seed)"
      ],
      "metadata": {
        "id": "4QZ1p-MGstyt"
      },
      "execution_count": 23,
      "outputs": []
    },
    {
      "cell_type": "code",
      "source": [
        "def generate_and_save_images(model,epoch,test_input):\n",
        "\n",
        "  predictions = model(test_input, training=False)\n",
        "\n",
        "  fig = plt.figure(figsize=(4,4))\n",
        "\n",
        "  for i in range(predictions.shape[0]):\n",
        "    plt.subplot(4,4, i+1)\n",
        "    plt.imshow(predictions[i,:,:,0] * 127.5 + 127.5, cmap = 'gray')\n",
        "    plt.axis('off')\n",
        "\n",
        "  plt.savefig('image_at_epoch_{:04d}.png'.format(epoch))\n",
        "  plt.show()"
      ],
      "metadata": {
        "id": "3gUcHDyOtX1a"
      },
      "execution_count": 24,
      "outputs": []
    },
    {
      "cell_type": "code",
      "source": [
        "train(train_dataset, epochs)"
      ],
      "metadata": {
        "colab": {
          "base_uri": "https://localhost:8080/",
          "height": 362
        },
        "id": "pYmxvdxPt4Dv",
        "outputId": "3a8eeec4-71d1-4f57-d421-0911cedffe8e"
      },
      "execution_count": null,
      "outputs": [
        {
          "output_type": "display_data",
          "data": {
            "text/plain": [
              "<Figure size 400x400 with 16 Axes>"
            ],
            "image/png": "[encoded data removed]"
          },
          "metadata": {}
        },
        {
          "output_type": "stream",
          "name": "stdout",
          "text": [
            "Time for epoch 11 is 121.1485960483551 sec\n"
          ]
        }
      ]
    },
    {
      "cell_type": "code",
      "source": [],
      "metadata": {
        "id": "jm0-UDFat7oM"
      },
      "execution_count": null,
      "outputs": []
    }
  ]
}